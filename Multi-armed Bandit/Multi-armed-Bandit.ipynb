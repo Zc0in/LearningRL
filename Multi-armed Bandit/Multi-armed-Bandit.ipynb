{
 "cells": [
  {
   "cell_type": "code",
   "execution_count": 1,
   "metadata": {},
   "outputs": [],
   "source": [
    "import numpy as np\n",
    "import matplotlib.pyplot as plt"
   ]
  },
  {
   "cell_type": "markdown",
   "metadata": {},
   "source": [
    "Create a class of Bandit with Bernoulli distribution"
   ]
  },
  {
   "cell_type": "code",
   "execution_count": 3,
   "metadata": {},
   "outputs": [
    {
     "name": "stdout",
     "output_type": "stream",
     "text": [
      "Create a 10 armed bandit randomly\n",
      "Best probability is 1, whose probability is 0.7203\n"
     ]
    }
   ],
   "source": [
    "class BernoulliBandit:\n",
    "    def __init__(self, k):\n",
    "        self.k = k\n",
    "        self.probs = np.random.uniform(size=k)\n",
    "        self.best_idx = np.argmax(self.probs)\n",
    "        self.best_prob = max(self.probs)\n",
    "\n",
    "    def step(self, k):\n",
    "        return 1 if np.random.rand() < self.probs[k] else 0\n",
    "\n",
    "np.random.seed(1)\n",
    "K = 10\n",
    "bandit_10_arm = BernoulliBandit(K)\n",
    "print(\"Create a %d armed bandit randomly\" % K)\n",
    "print(\"Best probability is %d, whose probability is %.4f\" % \n",
    "        (bandit_10_arm.best_idx, bandit_10_arm.best_prob))"
   ]
  }
 ],
 "metadata": {
  "kernelspec": {
   "display_name": "Python 3.8.13 ('pytorch')",
   "language": "python",
   "name": "python3"
  },
  "language_info": {
   "codemirror_mode": {
    "name": "ipython",
    "version": 3
   },
   "file_extension": ".py",
   "mimetype": "text/x-python",
   "name": "python",
   "nbconvert_exporter": "python",
   "pygments_lexer": "ipython3",
   "version": "3.8.13"
  },
  "orig_nbformat": 4,
  "vscode": {
   "interpreter": {
    "hash": "9ebf9cfd872009544a161647ac82c48f4cc096aba58631b69e515c7576d66293"
   }
  }
 },
 "nbformat": 4,
 "nbformat_minor": 2
}
